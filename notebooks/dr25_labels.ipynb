{
 "cells": [
  {
   "cell_type": "markdown",
   "metadata": {},
   "source": [
    "# Making Exonet labels for DR25\n",
    "\n",
    "Last updated: 11 Nov. 2019"
   ]
  },
  {
   "cell_type": "code",
   "execution_count": 1,
   "metadata": {},
   "outputs": [],
   "source": [
    "import sys, os, pdb, glob, time\n",
    "import numpy as np\n",
    "from astropy.io import fits\n",
    "from astropy.table import Table, Column\n",
    "import pandas as pd\n",
    "import matplotlib.pyplot as plt\n",
    "%matplotlib inline\n",
    "import math\n",
    "from tqdm import tqdm_notebook as tqdm"
   ]
  },
  {
   "cell_type": "markdown",
   "metadata": {},
   "source": [
    "### Load raw tables downloaded from MAST, Exoplanet Archive, etc."
   ]
  },
  {
   "cell_type": "code",
   "execution_count": 2,
   "metadata": {},
   "outputs": [
    {
     "name": "stderr",
     "output_type": "stream",
     "text": [
      "WARNING: OverflowError converting to FloatType in column boot_fap, possibly resulting in degraded precision. [astropy.io.ascii.fastbasic]\n",
      "WARNING: OverflowError converting to IntType in column koi_quarters, reverting to String. [astropy.io.ascii.fastbasic]\n"
     ]
    }
   ],
   "source": [
    "### DR25 TCEs (downloaded from MAST; \"rogue\" sources removed)\n",
    "tce_dr25 = Table.read(\"kplr_tables/q1_q17_dr25_tce.csv\", format=\"csv\", comment=\"#\")\n",
    "tce_dr25 = tce_dr25[tce_dr25[\"tce_rogue_flag\"] == 0]\n",
    "\n",
    "### DR25 KOI Cumullative table (downloaded from MAST)\n",
    "koi = Table.read(\"kplr_tables/koi_cumulative.csv\", format=\"csv\", comment=\"#\")\n",
    "\n",
    "### DR25 Certified FPs (downloaded from the NASA Exoplanet Archive)\n",
    "# fpwg = Table.read(\"kplr_tables/fpwg.csv\", format=\"csv\", comment=\"#\")\n",
    "\n",
    "### ROBOVETTER Results (downloaded from GitHub; should match to tce_dr25)\n",
    "rv_dr25 = Table.read(\"kplr_tables/kplr_dr25_obs_robovetter_output.txt\", format=\"ascii.basic\")\n",
    "\n",
    "### Stellar properties from Mathur+2017 (downloaded from CDS)\n",
    "star_dr25 = Table.read(\"kplr_tables/stellar_mathur_2017.fit\", format=\"fits\")"
   ]
  },
  {
   "cell_type": "code",
   "execution_count": 3,
   "metadata": {},
   "outputs": [],
   "source": [
    "### TBD: remove rogue TCEs from DR25? (due to error in TPS that kept 3-transit events; see explanation in link)\n",
    "### https://exoplanetarchive.ipac.caltech.edu/docs/Q1Q17-DR25-KOIcompanion.html\n",
    "### Thompson et al. 2018 encourage community to look at these since they contain some of the longest-period planets"
   ]
  },
  {
   "cell_type": "markdown",
   "metadata": {},
   "source": [
    "### Initialize DR25 labels table with TCE information"
   ]
  },
  {
   "cell_type": "code",
   "execution_count": 4,
   "metadata": {},
   "outputs": [],
   "source": [
    "### CREATE TABLE\n",
    "dr25 = Table()\n",
    "\n",
    "### FILL WITH USEFUL VALUES FROM TCE TABLE\n",
    "tce_colnames = [\"kepid\", \"tce_plnt_num\", \"tce_period\", \"tce_time0bk\", \"tce_duration\", \"tce_max_mult_ev\"]\n",
    "tce_colnames_new = [\"kep_id\", \"tce_id\", \"period\", \"epoch\", \"duration\", \"mes\"]\n",
    "for i, val in enumerate(tce_colnames_new):\n",
    "    dr25[val] = tce_dr25[tce_colnames[i]].data.data\n"
   ]
  },
  {
   "cell_type": "markdown",
   "metadata": {},
   "source": [
    "### Add stellar paramteers from Mathur et al. 2017"
   ]
  },
  {
   "cell_type": "code",
   "execution_count": 5,
   "metadata": {},
   "outputs": [
    {
     "data": {
      "application/vnd.jupyter.widget-view+json": {
       "model_id": "e922e88cf6f745a2a151b4f137b20d89",
       "version_major": 2,
       "version_minor": 0
      },
      "text/plain": [
       "HBox(children=(IntProgress(value=0, max=32534), HTML(value='')))"
      ]
     },
     "metadata": {},
     "output_type": "display_data"
    },
    {
     "name": "stdout",
     "output_type": "stream",
     "text": [
      "\n"
     ]
    }
   ],
   "source": [
    "### SETUP MATCHING\n",
    "starpars_names = [\"Teff\", \"Rad\", \"Mass\", \"log_g_\", \"__Fe_H_\", \"rho\"]\n",
    "teff, radius, mass, logg, feh, density, missing = [], [], [], [], [], [], []\n",
    "starpars = [teff, radius, mass, logg, feh, density]\n",
    "\n",
    "### PERFORM MATCH\n",
    "for i, val in enumerate(tqdm(dr25[\"kep_id\"])):\n",
    "    \n",
    "    ### FIND MATCH TO MATHUR+2017 \n",
    "    ind = np.where(star_dr25[\"KIC\"] == val)\n",
    "    \n",
    "    ### RECORD NON-MATCHES AND REPLACE WITH DUMMY VALUES\n",
    "    if len(ind[0]) != 1:\n",
    "        missing.append(val)\n",
    "        [x.append(-99) for x in starpars]\n",
    "\n",
    "    ### ELSE GRAB STELLAR PARAMETERS\n",
    "    else:\n",
    "        [(x.append(star_dr25[y][ind].data[0])) for x, y in zip(starpars, starpars_names)]\n",
    "\n",
    "### ADD TO LABELS\n",
    "starpars_names_new = ['teff', 'radius', 'mass', 'logg', 'feh', 'density']\n",
    "for i, val in enumerate(starpars):\n",
    "    dr25.add_column(Column(starpars[i], name=starpars_names[i], format=\"%.4f\"))\n",
    "    dr25.rename_column(starpars_names[i], starpars_names_new[i])"
   ]
  },
  {
   "cell_type": "code",
   "execution_count": 6,
   "metadata": {},
   "outputs": [
    {
     "name": "stdout",
     "output_type": "stream",
     "text": [
      "326 TCEs are missing stellar parameters in Mathur et al. 2017\n",
      "191 are unique KIC IDs \n",
      "\n",
      "These match the 326 stars in the TCE list with unknown (Solar) stellar parameters\n",
      "For example:\n",
      "\n",
      " kepid  tce_steff_prov\n",
      "------- --------------\n",
      "2308761          Solar\n",
      "2308761          Solar\n",
      "2308761          Solar\n",
      "2436378          Solar\n"
     ]
    }
   ],
   "source": [
    "### FIX MISSING STELLAR VALUES\n",
    "\n",
    "### HOW MANY ARE MISSING?\n",
    "print(\"{0:0.0f} TCEs are missing stellar parameters in Mathur et al. 2017\".format(len(missing)))\n",
    "print(\"{0:0.0f} are unique KIC IDs \\n\".format(len(np.unique(missing))))\n",
    "\n",
    "### THESE ARE ALL KIC STARS WITH UNKNOWN STELLAR PARAMETERS \n",
    "ind_solar = np.where(tce_dr25[\"tce_steff_prov\"] == \"Solar\")\n",
    "print(\"These match the {0:0.0f} stars in the TCE list with unknown (Solar) stellar parameters\".format(len(ind_solar[0])))\n",
    "print(\"For example:\\n\")\n",
    "print(tce_dr25[\"kepid\", \"tce_steff_prov\"][np.where(dr25[\"teff\"] == -99)][0:4])\n",
    "\n",
    "### REPLACING WITH MEDIAN VALUES\n",
    "ind_bad = np.where(dr25[\"teff\"] == -99)\n",
    "ind_good = np.where(dr25[\"teff\"] != -99)\n",
    "for i, val in enumerate(starpars_names_new):\n",
    "    dr25[val][ind_bad] = np.median(dr25[val][ind_good])\n"
   ]
  },
  {
   "cell_type": "markdown",
   "metadata": {},
   "source": [
    "### Match RoboVetter and TCEs"
   ]
  },
  {
   "cell_type": "code",
   "execution_count": 7,
   "metadata": {},
   "outputs": [
    {
     "data": {
      "application/vnd.jupyter.widget-view+json": {
       "model_id": "47abf64829df46b48afa14fd79703457",
       "version_major": 2,
       "version_minor": 0
      },
      "text/plain": [
       "HBox(children=(IntProgress(value=0, max=32534), HTML(value='')))"
      ]
     },
     "metadata": {},
     "output_type": "display_data"
    },
    {
     "name": "stdout",
     "output_type": "stream",
     "text": [
      "\n",
      "missing RV matches: 0\n"
     ]
    }
   ],
   "source": [
    "### SETUP MATCHING\n",
    "rv_names = [\"Robovetter_Score\", \"Disposition\", \"Not_Transit-Like_Flag\", \"Stellar_Eclipse_Flag\", \n",
    "            \"Centroid_Offset_Flag\", \"Ephemeris_Match_Flag\"]\n",
    "rv_score, rv_disp, rv_ntl, rv_se, rv_co, rv_em, missing = [], [], [], [], [], [], []\n",
    "rv_pars = [rv_score, rv_disp, rv_ntl, rv_se, rv_co, rv_em]\n",
    "for i, val in enumerate(tqdm(dr25[\"kep_id\"])):\n",
    "    \n",
    "    ### INDEX MATCH TO RV CATALOG BASED ON KIC + TCE ID\n",
    "    tce_str = str(dr25[\"kep_id\"][i]).zfill(9) + \"-\" + str(dr25[\"tce_id\"][i]).zfill(2)\n",
    "    ind = np.where(rv_dr25[\"TCE\"] == tce_str)\n",
    "    \n",
    "    ### RECORD ANY MISSING MATCHES AND USE -99 AS DUMMY FILL VALUE\n",
    "    if len(ind[0]) != 1:\n",
    "        missing.append(val)\n",
    "        [x.append(-99) for x in rv_pars]        \n",
    "        \n",
    "    #### ELSE RECORD MATCH\n",
    "    else:\n",
    "        [(x.append(rv_dr25[y][ind].data[0])) for x, y in zip(rv_pars, rv_names)]\n",
    "\n",
    "### ADD TO LABELS\n",
    "rv_names_new = [\"rv_score\", \"rv_disp\", \"rv_ntl\", \"rv_se\", \"rv_co\", \"rv_em\"]\n",
    "for i, val in enumerate(rv_pars):\n",
    "    dr25.add_column(Column(rv_pars[i], name=rv_names[i]))\n",
    "    dr25.rename_column(rv_names[i], rv_names_new[i])\n",
    "    \n",
    "### REPORT ANY MISSING MATCHES TO RV (THIS SHOULDN'T HAPPEN)\n",
    "print(\"missing RV matches: {0:0.0f}\".format(len(missing)))"
   ]
  },
  {
   "cell_type": "markdown",
   "metadata": {},
   "source": [
    "### Check RoboVetter against KOI DR 25 table"
   ]
  },
  {
   "cell_type": "code",
   "execution_count": 8,
   "metadata": {},
   "outputs": [
    {
     "data": {
      "application/vnd.jupyter.widget-view+json": {
       "model_id": "4f5d1691137142d08f6d059c34648cfb",
       "version_major": 2,
       "version_minor": 0
      },
      "text/plain": [
       "HBox(children=(IntProgress(value=0, max=9564), HTML(value='')))"
      ]
     },
     "metadata": {},
     "output_type": "display_data"
    },
    {
     "name": "stdout",
     "output_type": "stream",
     "text": [
      "\n"
     ]
    }
   ],
   "source": [
    "### cannot use koi_tce_plt_num with koi_tce_delivname = \"q1_q17_dr25_tce\" in koi table \n",
    "### as it doesn't match the tce_plt_num in the q1_q17_dr25_tce table (example is KIC 2012722)\n",
    "\n",
    "### PERFORM MATCH TO DR25 KOI TABLE\n",
    "koi_koi, koi_kic, koi_tce = [], [], []\n",
    "missing_kic, missing_tce = [], []\n",
    "for i, val in enumerate(tqdm(koi[\"kepid\"])):\n",
    "        \n",
    "    ### INDEX MATCHES TO THIS KIC ID\n",
    "    ind = np.where(dr25[\"kep_id\"] == val)\n",
    "\n",
    "    ### FIND EPHEM MATCHES USING PERIOD + EPOCH MATCHING OF THOMPSON+2018\n",
    "    if len(ind[0]) > 0:\n",
    "                \n",
    "        ### LOOP OVER ALL POSSIBLE KOIs WITH SAME KIC\n",
    "        found_pdiff, found_tce = [], []\n",
    "        for n, nval in enumerate(ind[0]):\n",
    "                \n",
    "            ### FIGURE OUT WHICH OBJECT HAS SHORTER PERIOD\n",
    "            if (dr25[\"period\"][nval] > koi[\"koi_period\"][i]):\n",
    "                p1, p2 = dr25[\"period\"][nval], koi[\"koi_period\"][i]\n",
    "                e1, e2 = dr25[\"epoch\"][nval], koi[\"koi_time0bk\"][i]\n",
    "            else:\n",
    "                p1, p2 = koi[\"koi_period\"][i], dr25[\"period\"][nval]\n",
    "                e1, e2 = koi[\"koi_time0bk\"][i], dr25[\"epoch\"][nval]\n",
    "\n",
    "            ### APPLY CRITERIA FOR PERIOD & EPOCH MATCHING\n",
    "            prat = round(p1 / p2)\n",
    "            pdiff = math.fabs(prat * p2 - p1) / (1.08228446E-05 * pow(p2, 1.3783804))\n",
    "            trat = round((e2  - e1) / p2)\n",
    "            tdiff = math.fabs(e2  - e1 - trat * p2) / (math.sqrt(2) * 0.00969916 * pow(p2, 0.36253537))\n",
    "\n",
    "            ### IF MATCH FOUND, RECORD\n",
    "            if (pdiff < 5.0) & (tdiff < 5.0):\n",
    "                found_pdiff.append(pdiff)\n",
    "                found_tce.append(dr25[\"tce_id\"][nval])\n",
    "        \n",
    "        ### IF MORE THAN ONE MATCH FOUND, TAKE CLOSEST PERIOD MATCH\n",
    "        if len(found_pdiff) > 1:            \n",
    "            koi_tce.append(found_tce[np.argmin(found_pdiff)])\n",
    "            koi_koi.append(koi[\"kepoi_name\"][i])\n",
    "            koi_kic.append(koi[\"kepid\"][i])\n",
    "            \n",
    "        ### IF ONLY ONE MATCH, RECORD\n",
    "        elif len(found_pdiff) == 1:\n",
    "            koi_tce.append(found_tce[0])\n",
    "            koi_koi.append(koi[\"kepoi_name\"][i])\n",
    "            koi_kic.append(koi[\"kepid\"][i])\n",
    "            \n",
    "        ### IF NO MATCH, RECORD MISSING \n",
    "        else:\n",
    "            missing_tce.append(koi[\"kepoi_name\"][i])\n",
    "            \n",
    "    ### ELSE RECORD NO KIC MATCH\n",
    "    else:\n",
    "        missing_kic.append(koi[\"kepoi_name\"][i])\n",
    "\n",
    "### DO SOME CHECKS ON MATCHING\n",
    "if (len(missing_kic) + len(koi_koi) + len(missing_tce) != len(koi)):\n",
    "    print(\"some koi entires were not recorded\")"
   ]
  },
  {
   "cell_type": "code",
   "execution_count": 9,
   "metadata": {},
   "outputs": [
    {
     "data": {
      "application/vnd.jupyter.widget-view+json": {
       "model_id": "dfbb3ac15f1645e3a398aa858ab54d8d",
       "version_major": 2,
       "version_minor": 0
      },
      "text/plain": [
       "HBox(children=(IntProgress(value=0, max=1101), HTML(value='')))"
      ]
     },
     "metadata": {},
     "output_type": "display_data"
    },
    {
     "name": "stdout",
     "output_type": "stream",
     "text": [
      "\n",
      "1101 of the 1101 missing KOIs are explained by not being in DR25\n",
      "654 are FPs, 446 are candidates, 1 are confirmed\n"
     ]
    }
   ],
   "source": [
    "### INVESTIGATE THE MISSING KICS SOURCES\n",
    "not_dr25, missing_kic_disp = [], []\n",
    "for i, val in enumerate(tqdm(missing_kic)):\n",
    "    \n",
    "    ### FIND THIS KOI\n",
    "    ind = np.where(koi[\"kepoi_name\"] == val)\n",
    "    missing_kic_disp.append(koi[\"koi_disposition\"][ind][0])\n",
    "        \n",
    "    ### EVERYTHING SHOULD HAVE ONE MATCH\n",
    "    if len(ind[0]) != 1:\n",
    "        print(\"what?\", val)\n",
    "        break\n",
    "                \n",
    "    ### CHECK IF IN DR25 TCE TABLE\n",
    "    if (koi[\"koi_tce_delivname\"][ind].mask == True):\n",
    "        not_dr25.append(val)\n",
    "    elif (koi[\"koi_tce_delivname\"][ind].data[0] != \"q1_q17_dr25_tce\"):\n",
    "        not_dr25.append(val)\n",
    "        \n",
    "    ### OTHERWISE PRINT TO SCREEN\n",
    "    else:\n",
    "        print(val)\n",
    "        \n",
    "### HOW MANY CAN BE EXPLAINED BY JUST NOT BEING IN DR25\n",
    "print(\"{0:0.0f} of the {1:0.0f} missing KOIs are explained by not being in DR25\".format(len(not_dr25), len(missing_kic)))\n",
    "\n",
    "### TBD: Need to figure out why there are sources without TCE delivery names\n",
    "### and whehter we should include in the training set the TCEs from other DRs.\n",
    "### There are a lot of candidates in the dataset\n",
    "missing_kic_disp = np.array(missing_kic_disp)\n",
    "ind_can = np.where(missing_kic_disp == 'CANDIDATE')\n",
    "ind_fps = np.where(missing_kic_disp == 'FALSE POSITIVE')\n",
    "ind_con = np.where(missing_kic_disp == 'CONFIRMED')\n",
    "print(\"{0:0.0f} are FPs, {1:0.0f} are candidates, {2:0.0f} are confirmed\".format(len(ind_fps[0]), len(ind_can[0]), len(ind_con[0])))\n"
   ]
  },
  {
   "cell_type": "code",
   "execution_count": 10,
   "metadata": {},
   "outputs": [
    {
     "name": "stdout",
     "output_type": "stream",
     "text": [
      "392 of the 670 missing KOIs are explained by not being in DR25\n",
      "Of the unexplained 249 are FPs, 22 are candidates, 7 are confirmed\n"
     ]
    }
   ],
   "source": [
    "### INVESTIGATE THE MISSING TCE SOURCES\n",
    "not_dr25, missing_tce_disp, what, what_disp = [], [], [], []\n",
    "for i, val in enumerate(missing_tce):\n",
    "\n",
    "    ### FIND THIS KOI\n",
    "    ind = np.where(koi[\"kepoi_name\"] == val)\n",
    "    missing_tce_disp.append(koi[\"koi_disposition\"][ind][0])\n",
    "    \n",
    "    ### EVERYTHING SHOULD HAVE ONE MATCH\n",
    "    if len(ind[0]) != 1:\n",
    "        print(\"what?\", val)\n",
    "        break\n",
    "        \n",
    "    ### CHECK IF IN DR25 TCE TABLE\n",
    "    if (koi[\"koi_tce_delivname\"][ind].mask == True):\n",
    "        not_dr25.append(val)\n",
    "    elif (koi[\"koi_tce_delivname\"][ind].data[0] != \"q1_q17_dr25_tce\"):\n",
    "        not_dr25.append(val)\n",
    "        \n",
    "    ### OTHERWISE RECORD\n",
    "    else:\n",
    "        what.append(val)\n",
    "        what_disp.append(koi[\"koi_disposition\"][ind][0])\n",
    "        \n",
    "### HOW MANY CAN BE EXPLAINED BY JUST NOT BEING IN DR25\n",
    "print(\"{0:0.0f} of the {1:0.0f} missing KOIs are explained by not being in DR25\".format(len(not_dr25), len(missing_tce)))\n",
    "\n",
    "### TBD: Need to figure out why those with DR25 TCE matches are not being ephemeris matched\n",
    "### Maybe not importnat since only 7 are confirmed and only 22 are candidates\n",
    "what_disp = np.array(what_disp)\n",
    "ind_can = np.where(what_disp == 'CANDIDATE')\n",
    "ind_fps = np.where(what_disp == 'FALSE POSITIVE')\n",
    "ind_con = np.where(what_disp == 'CONFIRMED')\n",
    "print(\"Of the unexplained {0:0.0f} are FPs, {1:0.0f} are candidates, {2:0.0f} are confirmed\".format(len(ind_fps[0]), len(ind_can[0]), len(ind_con[0])))\n"
   ]
  },
  {
   "cell_type": "markdown",
   "metadata": {},
   "source": [
    "### Fix/update RV dispositions "
   ]
  },
  {
   "cell_type": "code",
   "execution_count": 11,
   "metadata": {},
   "outputs": [
    {
     "name": "stdout",
     "output_type": "stream",
     "text": [
      "40 newly confirmed planets classified as FPs by RV\n"
     ]
    }
   ],
   "source": [
    "### FIND THOSE THAT ARE CONFIRMED KOIs BUT RV FPs \n",
    "ind_confirmed_new, koi_confirmed_new = [], []\n",
    "for i, val in enumerate(koi_koi):\n",
    "    \n",
    "    ind_koi = np.where(koi[\"kepoi_name\"] == koi_koi[i])\n",
    "    ind_tce = np.where( (dr25[\"kep_id\"] == koi_kic[i]) & (dr25[\"tce_id\"] == koi_tce[i]) )\n",
    "    \n",
    "    if (koi[\"koi_disposition\"][ind_koi][0] == \"CONFIRMED\") & (dr25[\"rv_disp\"][ind_tce][0] == \"FP\"):\n",
    "        ind_confirmed_new.append(ind_tce[0][0])\n",
    "        koi_confirmed_new.append(val)\n",
    "        \n",
    "ind_confirmed_new = np.array(ind_confirmed_new)\n",
    "koi_confirmed_new = np.array(koi_confirmed_new)\n",
    "print(\"{0:0.0f} newly confirmed planets classified as FPs by RV\".format(len(ind_confirmed_new)))"
   ]
  },
  {
   "cell_type": "code",
   "execution_count": 12,
   "metadata": {},
   "outputs": [
    {
     "name": "stdout",
     "output_type": "stream",
     "text": [
      "4077 planets\n",
      "28457 FPs\n"
     ]
    }
   ],
   "source": [
    "### CREATE LABELS WITH UPDATES FROM KOI\n",
    "dr25[\"label\"] = dr25[\"rv_disp\"].data\n",
    "dr25[\"label\"][ind_confirmed_new] = \"PC\"\n",
    "\n",
    "print(\"{0:0.0f} planets\".format(len(np.where(dr25[\"label\"] == \"PC\")[0])))\n",
    "print(\"{0:0.0f} FPs\".format(len(np.where(dr25[\"label\"] != \"PC\")[0])))\n",
    "\n",
    "### TBD: HOW TO REMOVE THE \"UNK\" CLASS FROM AV (SEE BELOW; UNCLEAR IF THEY CORRESPOND TO ANY SPECIFIC RV LABEL)"
   ]
  },
  {
   "cell_type": "code",
   "execution_count": 14,
   "metadata": {},
   "outputs": [],
   "source": [
    "### WRITE LABELS TO FILE\n",
    "dr25[\"kep_id\", \"tce_id\", \"period\", \"epoch\", \"duration\", \"mes\", \"teff\", \"radius\", \"mass\", \"logg\", \"feh\", \"density\", \"label\"].write(\"dr25_labels.txt\", format='ascii.csv')"
   ]
  },
  {
   "cell_type": "code",
   "execution_count": null,
   "metadata": {},
   "outputs": [],
   "source": []
  },
  {
   "cell_type": "markdown",
   "metadata": {},
   "source": [
    "# Differences between DR24 and DR25 TCE Table"
   ]
  },
  {
   "cell_type": "markdown",
   "metadata": {},
   "source": [
    "### Fix/Check TCE Table"
   ]
  },
  {
   "cell_type": "code",
   "execution_count": 2,
   "metadata": {},
   "outputs": [
    {
     "name": "stderr",
     "output_type": "stream",
     "text": [
      "WARNING: OverflowError converting to FloatType in column boot_fap, possibly resulting in degraded precision. [astropy.io.ascii.fastbasic]\n"
     ]
    }
   ],
   "source": [
    "### DR24-DR25 matches (from Chris Burke using his Federation code, 5 Nov. 2019)\n",
    "tce_dr24_dr25 = Table.read(\"kplr_tables/DR24-DR25-TCE-TCE-Pairs.txt\", format=\"ascii.no_header\")\n",
    "tce_dr24_dr25[\"col1\"].name = \"DR24_TCE\"\n",
    "tce_dr24_dr25[\"col2\"].name = \"DR25_TCE\"\n",
    "\n",
    "### DR25 TCEs (downloaded from MAST; \"rogue\" sources removed)\n",
    "tce_dr25 = Table.read(\"kplr_tables/q1_q17_dr25_tce.csv\", format=\"csv\", comment=\"#\")\n",
    "tce_dr25 = tce_dr25[tce_dr25[\"tce_rogue_flag\"] == 0]\n",
    "\n",
    "### DR25 TCEs (downloaded from MAST; \"rogue\" sources removed)\n",
    "tce_dr24 = Table.read(\"kplr_tables/q1_q17_dr24_tce.csv\", format=\"csv\", comment=\"#\")\n",
    "\n",
    "### ROBOVETTER Results (downloaded from GitHub; should match to tce_dr25)\n",
    "rv_dr25 = Table.read(\"kplr_tables/kplr_dr25_obs_robovetter_output.txt\", format=\"ascii.basic\")\n"
   ]
  },
  {
   "cell_type": "code",
   "execution_count": 4,
   "metadata": {},
   "outputs": [
    {
     "data": {
      "application/vnd.jupyter.widget-view+json": {
       "model_id": "1f85b4e3be4e4e93b75605e7036af08f",
       "version_major": 2,
       "version_minor": 0
      },
      "text/plain": [
       "HBox(children=(IntProgress(value=0, max=32534), HTML(value='')))"
      ]
     },
     "metadata": {},
     "output_type": "display_data"
    },
    {
     "name": "stdout",
     "output_type": "stream",
     "text": [
      "\n",
      "missing RV matches: 0\n"
     ]
    }
   ],
   "source": [
    "### SETUP MATCHING\n",
    "rv_names = [\"Robovetter_Score\", \"Disposition\", \"Not_Transit-Like_Flag\", \"Stellar_Eclipse_Flag\", \n",
    "            \"Centroid_Offset_Flag\", \"Ephemeris_Match_Flag\"]\n",
    "rv_score, rv_disp, rv_ntl, rv_se, rv_co, rv_em, missing = [], [], [], [], [], [], []\n",
    "rv_pars = [rv_score, rv_disp, rv_ntl, rv_se, rv_co, rv_em]\n",
    "for i, val in enumerate(tqdm(tce_dr25[\"kepid\"])):\n",
    "    \n",
    "    ### INDEX MATCH TO RV CATALOG BASED ON KIC + TCE ID\n",
    "    tce_str = str(tce_dr25[\"kepid\"][i]).zfill(9) + \"-\" + str(tce_dr25[\"tce_plnt_num\"][i]).zfill(2)\n",
    "    ind = np.where(rv_dr25[\"TCE\"] == tce_str)\n",
    "    \n",
    "    ### RECORD ANY MISSING MATCHES AND USE -99 AS DUMMY FILL VALUE\n",
    "    if len(ind[0]) != 1:\n",
    "        missing.append(val)\n",
    "        [x.append(-99) for x in rv_pars]        \n",
    "        \n",
    "    #### ELSE RECORD MATCH\n",
    "    else:\n",
    "        [(x.append(rv_dr25[y][ind].data[0])) for x, y in zip(rv_pars, rv_names)]\n",
    "\n",
    "### ADD TO LABELS\n",
    "rv_names_new = [\"rv_score\", \"rv_disp\", \"rv_ntl\", \"rv_se\", \"rv_co\", \"rv_em\"]\n",
    "for i, val in enumerate(rv_pars):\n",
    "    tce_dr25.add_column(Column(rv_pars[i], name=rv_names[i]))\n",
    "    tce_dr25.rename_column(rv_names[i], rv_names_new[i])\n",
    "    \n",
    "### REPORT ANY MISSING MATCHES TO RV (THIS SHOULDN'T HAPPEN)\n",
    "print(\"missing RV matches: {0:0.0f}\".format(len(missing)))"
   ]
  },
  {
   "cell_type": "code",
   "execution_count": 5,
   "metadata": {},
   "outputs": [
    {
     "data": {
      "application/vnd.jupyter.widget-view+json": {
       "model_id": "4468a16643d34b22974103258924caeb",
       "version_major": 2,
       "version_minor": 0
      },
      "text/plain": [
       "HBox(children=(IntProgress(value=0, max=32534), HTML(value='')))"
      ]
     },
     "metadata": {},
     "output_type": "display_data"
    },
    {
     "name": "stdout",
     "output_type": "stream",
     "text": [
      "005513861-01 005513861-01\n",
      "008019043-01 008019043-01\n",
      "008019043-02 008019043-02\n",
      "008019043-03 008019043-03\n",
      "\n"
     ]
    }
   ],
   "source": [
    "ind_dr24_match, ind_dr25_match = [], []\n",
    "for i, val in enumerate(tqdm(tce_dr25)):\n",
    "    \n",
    "    ### INDEX MATCH TO RV CATALOG BASED ON KIC + TCE ID\n",
    "    tce_str_dr25 = str(tce_dr25[\"kepid\"][i]).zfill(9) + \"-\" + str(tce_dr25[\"tce_plnt_num\"][i]).zfill(2)\n",
    "    ind_tce = np.where(tce_dr24_dr25[\"DR25_TCE\"] == tce_str_dr25)\n",
    "    \n",
    "    if len(ind_tce[0]) == 1:\n",
    "        \n",
    "        tce_str_dr24 = tce_dr24_dr25[\"DR24_TCE\"][ind_tce][0]\n",
    "        kic = int(tce_str_dr24.split(\"-\")[0])\n",
    "        tce = int(tce_str_dr24.split(\"-\")[1])\n",
    "    \n",
    "        ind_dr24 = np.where( (tce_dr24[\"kepid\"] == kic) & (tce_dr24[\"tce_plnt_num\"] == tce) )\n",
    "        if len(ind_dr24[0]) == 0:\n",
    "            print(tce_str_dr25, tce_str_dr24)\n",
    "        else:\n",
    "            ind_dr24_match.append(ind_dr24[0][0])\n",
    "            ind_dr25_match.append(i)\n",
    "\n",
    "ind_dr24_match =  np.array(ind_dr24_match)\n",
    "ind_dr25_match =  np.array(ind_dr25_match)\n",
    "\n"
   ]
  },
  {
   "cell_type": "code",
   "execution_count": 6,
   "metadata": {},
   "outputs": [],
   "source": [
    "### ONLY KEEP THOSE WITH MATCHES FROM DR24 TO DR25\n",
    "dr24 = tce_dr24[ind_dr24_match]\n",
    "dr25 = tce_dr25[ind_dr25_match]"
   ]
  },
  {
   "cell_type": "code",
   "execution_count": 57,
   "metadata": {},
   "outputs": [
    {
     "name": "stdout",
     "output_type": "stream",
     "text": [
      "226 out of 2030 TCEs classified as UNK in DR24 are now PCs in DR25\n"
     ]
    }
   ],
   "source": [
    "### MOST OF THE UNK CLASS SEEMS TO BE FP DUE TO NTL EVENTS\n",
    "### THERE ARE A COUPLE HUNDRED PCs THAT WERE PREVIOUSLY CLASSIFIED AS UNK AND THUS NOT USED FOR DR24 TRAINING\n",
    "\n",
    "ind_av_unk = np.where(dr24[\"av_training_set\"] == \"UNK\")\n",
    "pc_unk = []\n",
    "for i, val in enumerate(ind_av_unk[0]):\n",
    "    \n",
    "    if dr25[\"rv_disp\"][val] != \"FP\":\n",
    "        tce_str = str(dr25[\"kepid\"][val]).zfill(9) + \"-\" + str(dr25[\"tce_plnt_num\"][val]).zfill(2)\n",
    "        pc_unk.append(tce_str)\n",
    "        \n",
    "#     print(dr25[\"kepid\"][val], dr25[\"tce_plnt_num\"][val], dr25[\"rv_disp\"][val],\n",
    "#           dr25[\"rv_ntl\"][val], dr25[\"rv_se\"][val], dr25[\"rv_co\"][val], dr25[\"rv_em\"][val])\n",
    "        \n",
    "pc_unk = np.array(pc_unk)\n",
    "print(\"{0:0.0f} out of {1:0.0f} TCEs classified as UNK in DR24 are now PCs in DR25\".format(len(pc_unk), len(ind_av_unk[0])))\n"
   ]
  },
  {
   "cell_type": "code",
   "execution_count": 58,
   "metadata": {},
   "outputs": [
    {
     "name": "stdout",
     "output_type": "stream",
     "text": [
      "1426\n",
      "4277\n"
     ]
    }
   ],
   "source": [
    "### BUT THERE ARE ALSO A BUNCH OF NTL FPS THAT ARE NOT UNK\n",
    "ind_av_unk = np.where(dr24[\"av_training_set\"] == \"UNK\")\n",
    "ind_av_knw = np.where(dr24[\"av_training_set\"] != \"UNK\")\n",
    "\n",
    "print(len(np.where(dr25[\"rv_ntl\"][ind_av_unk] == 1)[0]))\n",
    "print(len(np.where(dr25[\"rv_ntl\"][ind_av_knw] == 1)[0]))"
   ]
  },
  {
   "cell_type": "code",
   "execution_count": 68,
   "metadata": {},
   "outputs": [
    {
     "data": {
      "text/html": [
       "<i>Table masked=True length=15</i>\n",
       "<table id=\"table140200092354264\" class=\"table-striped table-bordered table-condensed\">\n",
       "<thead><tr><th>kepid</th><th>tce_plnt_num</th><th>tce_period</th><th>av_training_set</th></tr></thead>\n",
       "<thead><tr><th>int64</th><th>int64</th><th>float64</th><th>str3</th></tr></thead>\n",
       "<tr><td>2304235</td><td>1</td><td>0.570592</td><td>AFP</td></tr>\n",
       "<tr><td>2304566</td><td>1</td><td>0.689907</td><td>UNK</td></tr>\n",
       "<tr><td>2304320</td><td>1</td><td>16.5408</td><td>PC</td></tr>\n",
       "<tr><td>2303365</td><td>2</td><td>0.520697</td><td>AFP</td></tr>\n",
       "<tr><td>2303903</td><td>1</td><td>3.70852</td><td>PC</td></tr>\n",
       "<tr><td>2303365</td><td>1</td><td>0.520683</td><td>AFP</td></tr>\n",
       "<tr><td>2305255</td><td>1</td><td>24.5694</td><td>NTP</td></tr>\n",
       "<tr><td>757450</td><td>1</td><td>8.88492</td><td>PC</td></tr>\n",
       "<tr><td>892772</td><td>1</td><td>5.0926</td><td>AFP</td></tr>\n",
       "<tr><td>892667</td><td>1</td><td>2.26211</td><td>NTP</td></tr>\n",
       "<tr><td>1026032</td><td>1</td><td>8.46044</td><td>UNK</td></tr>\n",
       "<tr><td>1026133</td><td>1</td><td>1.34629</td><td>UNK</td></tr>\n",
       "<tr><td>1026032</td><td>2</td><td>4.23022</td><td>UNK</td></tr>\n",
       "<tr><td>1026957</td><td>1</td><td>21.7613</td><td>AFP</td></tr>\n",
       "<tr><td>1028018</td><td>1</td><td>0.614378</td><td>UNK</td></tr>\n",
       "</table>"
      ],
      "text/plain": [
       "<Table masked=True length=15>\n",
       " kepid  tce_plnt_num tce_period av_training_set\n",
       " int64     int64      float64         str3     \n",
       "------- ------------ ---------- ---------------\n",
       "2304235            1   0.570592             AFP\n",
       "2304566            1   0.689907             UNK\n",
       "2304320            1    16.5408              PC\n",
       "2303365            2   0.520697             AFP\n",
       "2303903            1    3.70852              PC\n",
       "2303365            1   0.520683             AFP\n",
       "2305255            1    24.5694             NTP\n",
       " 757450            1    8.88492              PC\n",
       " 892772            1     5.0926             AFP\n",
       " 892667            1    2.26211             NTP\n",
       "1026032            1    8.46044             UNK\n",
       "1026133            1    1.34629             UNK\n",
       "1026032            2    4.23022             UNK\n",
       "1026957            1    21.7613             AFP\n",
       "1028018            1   0.614378             UNK"
      ]
     },
     "execution_count": 68,
     "metadata": {},
     "output_type": "execute_result"
    }
   ],
   "source": [
    "dr24[\"kepid\", \"tce_plnt_num\", \"tce_period\", \"av_training_set\"][0:15]"
   ]
  },
  {
   "cell_type": "code",
   "execution_count": 69,
   "metadata": {},
   "outputs": [
    {
     "data": {
      "text/html": [
       "<i>Table masked=True length=15</i>\n",
       "<table id=\"table140199553925696\" class=\"table-striped table-bordered table-condensed\">\n",
       "<thead><tr><th>kepid</th><th>tce_plnt_num</th><th>tce_period</th><th>rv_disp</th><th>rv_ntl</th></tr></thead>\n",
       "<thead><tr><th>int64</th><th>int64</th><th>float64</th><th>str2</th><th>int64</th></tr></thead>\n",
       "<tr><td>2304235</td><td>1</td><td>0.570607</td><td>FP</td><td>1</td></tr>\n",
       "<tr><td>2304566</td><td>1</td><td>0.68948</td><td>FP</td><td>1</td></tr>\n",
       "<tr><td>2304320</td><td>1</td><td>16.5408</td><td>PC</td><td>0</td></tr>\n",
       "<tr><td>2303365</td><td>2</td><td>0.520697</td><td>FP</td><td>1</td></tr>\n",
       "<tr><td>2303903</td><td>1</td><td>3.70856</td><td>PC</td><td>0</td></tr>\n",
       "<tr><td>2303365</td><td>1</td><td>0.520693</td><td>FP</td><td>1</td></tr>\n",
       "<tr><td>2305255</td><td>1</td><td>24.5694</td><td>FP</td><td>1</td></tr>\n",
       "<tr><td>757450</td><td>1</td><td>8.88492</td><td>PC</td><td>0</td></tr>\n",
       "<tr><td>892772</td><td>1</td><td>5.09259</td><td>FP</td><td>0</td></tr>\n",
       "<tr><td>892667</td><td>1</td><td>2.26201</td><td>FP</td><td>1</td></tr>\n",
       "<tr><td>1026032</td><td>1</td><td>8.46044</td><td>FP</td><td>0</td></tr>\n",
       "<tr><td>1026133</td><td>1</td><td>1.34637</td><td>FP</td><td>1</td></tr>\n",
       "<tr><td>1026032</td><td>2</td><td>4.23022</td><td>FP</td><td>1</td></tr>\n",
       "<tr><td>1026957</td><td>1</td><td>21.7613</td><td>PC</td><td>0</td></tr>\n",
       "<tr><td>1028018</td><td>1</td><td>0.615074</td><td>FP</td><td>1</td></tr>\n",
       "</table>"
      ],
      "text/plain": [
       "<Table masked=True length=15>\n",
       " kepid  tce_plnt_num tce_period rv_disp rv_ntl\n",
       " int64     int64      float64     str2  int64 \n",
       "------- ------------ ---------- ------- ------\n",
       "2304235            1   0.570607      FP      1\n",
       "2304566            1    0.68948      FP      1\n",
       "2304320            1    16.5408      PC      0\n",
       "2303365            2   0.520697      FP      1\n",
       "2303903            1    3.70856      PC      0\n",
       "2303365            1   0.520693      FP      1\n",
       "2305255            1    24.5694      FP      1\n",
       " 757450            1    8.88492      PC      0\n",
       " 892772            1    5.09259      FP      0\n",
       " 892667            1    2.26201      FP      1\n",
       "1026032            1    8.46044      FP      0\n",
       "1026133            1    1.34637      FP      1\n",
       "1026032            2    4.23022      FP      1\n",
       "1026957            1    21.7613      PC      0\n",
       "1028018            1   0.615074      FP      1"
      ]
     },
     "execution_count": 69,
     "metadata": {},
     "output_type": "execute_result"
    }
   ],
   "source": [
    "dr25[\"kepid\", \"tce_plnt_num\", \"tce_period\", \"rv_disp\", \"rv_ntl\"][0:15]"
   ]
  },
  {
   "cell_type": "code",
   "execution_count": null,
   "metadata": {},
   "outputs": [],
   "source": []
  },
  {
   "cell_type": "code",
   "execution_count": null,
   "metadata": {},
   "outputs": [],
   "source": []
  },
  {
   "cell_type": "code",
   "execution_count": null,
   "metadata": {},
   "outputs": [],
   "source": []
  },
  {
   "cell_type": "markdown",
   "metadata": {},
   "source": [
    "### compare DR24 and DR25 TCEs [see Fig. 1 in Thompson et al. 2018]"
   ]
  },
  {
   "cell_type": "code",
   "execution_count": 218,
   "metadata": {},
   "outputs": [
    {
     "data": {
      "text/plain": [
       "<matplotlib.legend.Legend at 0x7f8d6ac00668>"
      ]
     },
     "execution_count": 218,
     "metadata": {},
     "output_type": "execute_result"
    },
    {
     "data": {
      "image/png": "[encoded data removed]",
      "text/plain": [
       "<Figure size 864x576 with 1 Axes>"
      ]
     },
     "metadata": {},
     "output_type": "display_data"
    }
   ],
   "source": [
    "### setup plot\n",
    "plt.rcParams.update({'font.size': 14})\n",
    "fig=plt.figure(figsize=(12, 8), facecolor='w', edgecolor='k')\n",
    "\n",
    "### get bins equally spaced in log space\n",
    "x = tce_dr25['tce_period'].data\n",
    "hist, bins, _ = plt.hist(x, bins=120)\n",
    "logbins = np.logspace(np.log10(bins[0]), np.log10(bins[-1]), len(bins))\n",
    "plt.clf() \n",
    "\n",
    "### plot histogram of TCEs\n",
    "plt.xscale('log')\n",
    "plt.xlabel(\"Period (Days)\")\n",
    "plt.ylabel(\"Number of TCEs\")\n",
    "plt.hist(x, bins=logbins, fill=False, edgecolor='black', linewidth=2, label='DR25 TCEs')\n",
    "plt.hist(tce_dr24['tce_period'].data, bins=logbins, fill=False, edgecolor='green', linewidth=2, label='DR24 TCEs')\n",
    "\n",
    "plt.legend()"
   ]
  },
  {
   "cell_type": "markdown",
   "metadata": {},
   "source": [
    "Looks good (i.e., similar to Fig. 1 in Thompson et al. 2018). Note that the increase in TCEs in DR25 are mostly false positives, which was done on purpose to increase the Pipeline completeness by allowing more transiting exoplanets to be made into obsTCEs.(see Thompson et al. 2018 for explanation). "
   ]
  },
  {
   "cell_type": "code",
   "execution_count": null,
   "metadata": {
    "collapsed": true
   },
   "outputs": [],
   "source": []
  },
  {
   "cell_type": "code",
   "execution_count": null,
   "metadata": {
    "collapsed": true
   },
   "outputs": [],
   "source": []
  },
  {
   "cell_type": "markdown",
   "metadata": {},
   "source": [
    "### compare SV18-DR24-AV training set to RV-DR25 training set\n",
    "\n",
    "Only ~440 (12%) more PCs, but much more negative classifications (i.e., more unbalanced dataset)"
   ]
  },
  {
   "cell_type": "code",
   "execution_count": 235,
   "metadata": {},
   "outputs": [
    {
     "name": "stdout",
     "output_type": "stream",
     "text": [
      "\n",
      "total SV18 training set =  15737\n",
      "PC in SV18 training set =  3600 or 23.0 %\n",
      "\n",
      "total DR25 training set =  30690\n",
      "PC in DR25 training set =  4077 or 13.0 %\n"
     ]
    }
   ],
   "source": [
    "'''\n",
    "[from Catanzarite et al. 2015]\n",
    "\n",
    "The robovetter PC class is almost the same as that of the autovetter.\n",
    " The only difference is AV autovetter defines PC to have radius smaller than 25 REarth.\n",
    "\n",
    "The robovetter Transit-like FP class (i.e, those that become KOIs) is a subset of AV's AFP class.\n",
    "AV also include TCEs produced by periodic signals of astrophysical origin\n",
    "(e.g., due to pulsating stars, contact binaries and starspots)\n",
    "that the robovetter would classify these as Not Transit-Like.\n",
    " \n",
    "'''\n",
    "\n",
    "### SV18 training set from \n",
    "ind_sv_all = np.where(tce_dr24['av_training_set'] != 'UNK')\n",
    "ind_sv_pc = np.where(tce_dr24['av_training_set'] == 'PC')\n",
    "print(\"\\ntotal SV18 training set = \", len(ind_sv_all[0]))\n",
    "print(\"PC in SV18 training set = \", len(ind_sv_pc[0]), 'or', 100 * round(len(ind_sv_pc[0]) / len(ind_sv_all[0]), 2), '%')\n",
    "\n",
    "### RV training set\n",
    "## remove ephem matches (these shouldn't be in training set since not in SV18 I think)\n",
    "tce25 = dr25[np.where(dr25['rv_em'] == 0)]\n",
    "print(\"\\ntotal DR25 training set = \", len(tce25))\n",
    "print(\"PC in DR25 training set = \", len(np.where(tce25['label'] == 'PC')[0]), 'or', \n",
    "      100 * round(len(np.where(tce25['label'] == 'PC')[0]) / len(tce25), 2), '%')\n"
   ]
  },
  {
   "cell_type": "markdown",
   "metadata": {},
   "source": [
    "### Fix/Check KOI Table"
   ]
  },
  {
   "cell_type": "code",
   "execution_count": 7,
   "metadata": {},
   "outputs": [
    {
     "data": {
      "text/plain": [
       "<matplotlib.legend.Legend at 0x116b4c6a0>"
      ]
     },
     "execution_count": 7,
     "metadata": {},
     "output_type": "execute_result"
    },
    {
     "data": {
      "image/png": "[encoded data removed]",
      "text/plain": [
       "<matplotlib.figure.Figure at 0x1136765f8>"
      ]
     },
     "metadata": {},
     "output_type": "display_data"
    }
   ],
   "source": [
    "### try to re-create plots in \n",
    "### https://exoplanetarchive.ipac.caltech.edu/docs/Q1Q17-DR25-KOIcompanion.html\n",
    "\n",
    "### setup plot\n",
    "plt.rcParams.update({'font.size': 14})\n",
    "fig=plt.figure(figsize=(12, 8), facecolor='w', edgecolor='k')\n",
    "\n",
    "### get bins equally spaced in log space\n",
    "x = tce25['tce_period'].data\n",
    "hist, bins, _ = plt.hist(x, bins=120)\n",
    "logbins = np.logspace(np.log10(bins[0]), np.log10(bins[-1]), len(bins))\n",
    "plt.clf() \n",
    "\n",
    "### plot histogram of TCEs\n",
    "plt.xscale('log')\n",
    "plt.xlabel(\"Period (Days)\")\n",
    "plt.ylabel(\"Number of TCEs\")\n",
    "plt.hist(x, bins=logbins, color='firebrick', edgecolor='black', linewidth=1, label='TCEs')\n",
    "\n",
    "### plot histogram of KOIs\n",
    "x_koi = koi25['koi_period'].data\n",
    "plt.hist(x_koi, bins=logbins, color='goldenrod', edgecolor='black', linewidth=1, label='KOIs')\n",
    "\n",
    "### plot histogram of PCs\n",
    "x_pc = koi25['koi_period'][np.where(koi25['koi_pdisposition'] == 'CANDIDATE')].data\n",
    "plt.hist(x_pc, bins=logbins, color='lightblue', edgecolor='black', linewidth=1, label='PCs')\n",
    "\n",
    "plt.legend()\n"
   ]
  },
  {
   "cell_type": "markdown",
   "metadata": {},
   "source": [
    "The total number of DR25 TCEs with KOI labels is < len(KOI) because some were delivered in earlier releases"
   ]
  },
  {
   "cell_type": "code",
   "execution_count": 26,
   "metadata": {},
   "outputs": [
    {
     "name": "stdout",
     "output_type": "stream",
     "text": [
      "total KOIs =  9564\n",
      "total training set =  8187\n",
      "PC in training set =  4154 or 51.0 %\n"
     ]
    }
   ],
   "source": [
    "ind_all = np.where(tce25['koi_disposition'] != '')\n",
    "ind_pc = np.where( (tce25['koi_disposition'] == 'CANDIDATE') | (tce25['koi_disposition'] == 'CONFIRMED') )\n",
    "\n",
    "print(\"total KOIs = \", len(koi25))\n",
    "print(\"total training set = \", len(ind_all[0]))\n",
    "print(\"PC in training set = \", len(ind_pc[0]), 'or', 100 * round(len(ind_pc[0]) / len(ind_all[0]), 2), '%')"
   ]
  },
  {
   "cell_type": "code",
   "execution_count": null,
   "metadata": {
    "collapsed": true
   },
   "outputs": [],
   "source": []
  }
 ],
 "metadata": {
  "kernelspec": {
   "display_name": "Python 3",
   "language": "python",
   "name": "python3"
  },
  "language_info": {
   "codemirror_mode": {
    "name": "ipython",
    "version": 3
   },
   "file_extension": ".py",
   "mimetype": "text/x-python",
   "name": "python",
   "nbconvert_exporter": "python",
   "pygments_lexer": "ipython3",
   "version": "3.7.3"
  }
 },
 "nbformat": 4,
 "nbformat_minor": 2
}
